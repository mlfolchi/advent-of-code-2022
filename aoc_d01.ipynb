{
 "cells": [
  {
   "cell_type": "code",
   "execution_count": 1,
   "id": "9dadca10",
   "metadata": {},
   "outputs": [],
   "source": [
    "#specify input file\n",
    "input_file = 'advent_of_code_day01.txt'"
   ]
  },
  {
   "cell_type": "code",
   "execution_count": 2,
   "id": "b578f495",
   "metadata": {},
   "outputs": [],
   "source": [
    "#open file\n",
    "#split string at double line breaks to separate elves\n",
    "with open(input_file) as f:\n",
    "    elf_inventory = f.read().split('\\n\\n')"
   ]
  },
  {
   "cell_type": "code",
   "execution_count": 3,
   "id": "6a9ba1c1",
   "metadata": {},
   "outputs": [],
   "source": [
    "#create an empty list\n",
    "calories = [ ]"
   ]
  },
  {
   "cell_type": "code",
   "execution_count": 4,
   "id": "3530d6ec",
   "metadata": {},
   "outputs": [],
   "source": [
    "#for each elf, split string at line break to separate meals\n",
    "#cast meal calories as integer\n",
    "#sum meal calories and append the sum to the calories list\n",
    "for elf in elf_inventory:\n",
    "    meals_string = elf.split('\\n')\n",
    "    meals_int = [int(i) for i in meals_string]\n",
    "    calories.append(sum(meals_int))"
   ]
  },
  {
   "cell_type": "code",
   "execution_count": 5,
   "id": "46d20355",
   "metadata": {},
   "outputs": [
    {
     "name": "stdout",
     "output_type": "stream",
     "text": [
      "71934\n"
     ]
    }
   ],
   "source": [
    "#print the max calories\n",
    "print(max(calories))"
   ]
  },
  {
   "cell_type": "code",
   "execution_count": 22,
   "id": "feb07434",
   "metadata": {},
   "outputs": [
    {
     "data": {
      "text/plain": [
       "211447"
      ]
     },
     "execution_count": 22,
     "metadata": {},
     "output_type": "execute_result"
    }
   ],
   "source": [
    "#print the sum of the top 3\n",
    "sum(sorted(calories, reverse=True)[0:3])"
   ]
  },
  {
   "cell_type": "code",
   "execution_count": 15,
   "id": "57d5d856",
   "metadata": {},
   "outputs": [],
   "source": [
    "top_calories"
   ]
  },
  {
   "cell_type": "code",
   "execution_count": null,
   "id": "de00bb21",
   "metadata": {},
   "outputs": [],
   "source": []
  }
 ],
 "metadata": {
  "kernelspec": {
   "display_name": "Python 3 (ipykernel)",
   "language": "python",
   "name": "python3"
  },
  "language_info": {
   "codemirror_mode": {
    "name": "ipython",
    "version": 3
   },
   "file_extension": ".py",
   "mimetype": "text/x-python",
   "name": "python",
   "nbconvert_exporter": "python",
   "pygments_lexer": "ipython3",
   "version": "3.8.0"
  }
 },
 "nbformat": 4,
 "nbformat_minor": 5
}
